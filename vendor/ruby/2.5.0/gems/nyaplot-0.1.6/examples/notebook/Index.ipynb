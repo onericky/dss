{
 "metadata": {
  "language": "ruby",
  "name": ""
 },
 "nbformat": 3,
 "nbformat_minor": 0,
 "worksheets": [
  {
   "cells": [
    {
     "cell_type": "markdown",
     "metadata": {},
     "source": [
      "<center><img src=\"https://dl.dropboxusercontent.com/u/47978121/gsoc/nya_top.png\" style=\"margin: 0 auto\"></img></center>"
     ]
    },
    {
     "cell_type": "heading",
     "level": 1,
     "metadata": {},
     "source": [
      "<h1 style=\"text-align:center\">Nyaplot Tutorial & Case study</h1>"
     ]
    },
    {
     "cell_type": "markdown",
     "metadata": {},
     "source": [
      "<div style=\"position:relative; width:1000px; margin-left:auto; margin-right:auto;\">\n",
      "    <div style=\"width: 500px; float:left\">\n",
      "    <h2>Tutorial</h2>\n",
      "    <ul>\n",
      "        <li><a href=\"http://nbviewer.ipython.org/github/domitry/nyaplot/blob/master/examples/notebook/Getting_Started_with_Nyaplot.ipynb\">Tutorial 1: Getting Started with Nyaplot</a></li>\n",
      "        <li><a href=\"http://nbviewer.ipython.org/github/domitry/nyaplot/blob/master/examples/notebook/Interaction_with_DataFrame.ipynb\">Tutorial 2: Interaction with DataFrame</a></li>\n",
      "        <li><a href=\"http://nbviewer.ipython.org/github/domitry/nyaplot/blob/master/examples/notebook/Colors.ipynb\">Tutorial 3: Picking colors suitable for your plots</a></li>\n",
      "        <li><a href=\"http://nbviewer.ipython.org/github/domitry/nyaplot/blob/master/examples/notebook/Introduction.ipynb\">Tutorial 4: Introduction of charts bundled with Nyaplot</a></li>\n",
      "        <li><a href=\"http://nbviewer.ipython.org/github/domitry/nyaplot/blob/master/examples/notebook/3DPlot.ipynb\">Tutorial 5: Create 3D plots with Nyaplot3D</a></li>\n",
      "        <li><a href=\"http://nbviewer.ipython.org/github/domitry/nyaplot/blob/master/examples/notebook/Mapnya.ipynb\">Tutorial 6: Create Map visualization with Mapnya</a></li>\n",
      "        <li><a href=\"http://nbviewer.ipython.org/github/domitry/nyaplot/blob/master/examples/notebook/Bionya.ipynb\">Tutorial 7: Create Circular plots with Bionya</a></li>\n",
      "    </ul>\n",
      "    </div>\n",
      "        <div style=\"width: 500px; float:left\">\n",
      "        <h2>Case Study</h2>\n",
      "    <ul>\n",
      "        <li><a href=\"http://nbviewer.ipython.org/github/domitry/nyaplot/blob/master/examples/notebook/Mapnya.ipynb#Case2-:Fill-countries-in-different-colors\">Case 1: Visualizing war expenditure per GDP</a></li>\n",
      "        <li><a href=\"http://nbviewer.ipython.org/github/domitry/nyaplot/blob/master/examples/notebook/Mapnya2.ipynb\">Case 2: Visualizing wind vectors on map</a></li>\n",
      "        <li><a href=\"http://nbviewer.ipython.org/github/domitry/nyaplot/blob/master/examples/notebook/Bionya2.ipynb\">Case 3: Operon in genome of Ecoli</a></li>\n",
      "        <li><a href=\"http://nbviewer.ipython.org/github/domitry/nyaplot-notebooks/blob/master/line.ipynb\">Case 4: A solution of FitzHugh-Nagumo Model</a></li>\n",
      "        <li><a href=\"http://nbviewer.ipython.org/github/domitry/nyaplot-notebooks/blob/master/line2.ipynb\">Case 5: A solution of FitzHugh-Nagumo Model + cyclic noise</a></li>\n",
      "        <li><a href=\"http://nbviewer.ipython.org/gist/mgiraldo/a68b53175ce5892531bc\">Finding shape consensus among multiple geo polygons by @mgiraldo</a></li>\n",
      "    </ul>\n",
      "    </div>\n",
      "</div>"
     ]
    }
   ],
   "metadata": {}
  }
 ]
}